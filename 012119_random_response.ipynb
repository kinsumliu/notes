{
 "cells": [
  {
   "cell_type": "markdown",
   "metadata": {},
   "source": [
    "Problem: Heavy hitter\n",
    "\n",
    "Reference:\n",
    "- Privacy at Scale: Local Differential Privacy in Practice"
   ]
  },
  {
   "cell_type": "code",
   "execution_count": 1,
   "metadata": {},
   "outputs": [],
   "source": [
    "%load_ext autoreload\n",
    "%autoreload 2"
   ]
  },
  {
   "cell_type": "code",
   "execution_count": 2,
   "metadata": {},
   "outputs": [],
   "source": [
    "%matplotlib inline\n",
    "import matplotlib.pyplot as plt"
   ]
  },
  {
   "cell_type": "markdown",
   "metadata": {},
   "source": [
    "Implementation of Random Response Protocol $\\pi$ (for user with value $v$) as\n",
    "\\begin{equation}\n",
    "  \\forall_{y\\in D} Pr[\\pi(v)=y]=\n",
    "  \\begin{cases}\n",
    "    \\frac{e^\\epsilon}{e^\\epsilon+|D|-1}, & \\text{if $y=v$}.\\\\\n",
    "    \\frac{1}{e^\\epsilon+|D|-1}, & \\text{if $y\\neq v$}.\\\\\n",
    "  \\end{cases}\n",
    "\\end{equation}\n",
    "\n",
    "Intuition: We sample the correct answer (response $y$ equals truth value $v$) with higher probability. Therefore, if $\\epsilon$ is higher, probability of returning the correct answer is higher which means the privacy is lower. When $\\epsilon = 0$, we have the highest privacy protection."
   ]
  },
  {
   "cell_type": "code",
   "execution_count": 3,
   "metadata": {},
   "outputs": [],
   "source": [
    "from heavyhitter import heavyhitter as hh\n",
    "import numpy as np\n",
    "class ROUser(hh.User):\n",
    "  def set_epsilon(self, epsilon=0):\n",
    "    self.eps = epsilon\n",
    "    pk = [np.exp(self.eps) if np.array_equal(self.val, np.asarray([x])) else 1 \n",
    "                                                 for x in self.rv.xk]\n",
    "    pk /= np.exp(self.eps)+len(self.rv.xk)-1\n",
    "    self.response_rv = stats.rv_discrete(name='response', values=(self.rv.xk, pk))\n",
    "    \n",
    "  def response(self, query):\n",
    "    assert hasattr(self, 'response_rv'), \"response requires setting privacy budget epsilon\"\n",
    "    return self.response_rv.rvs(size=1) == query\n",
    "  \n",
    "class ROAggregator(hh.Aggregator):\n",
    "  def aggregate(self, responses):\n",
    "    return np.mean(responses)"
   ]
  },
  {
   "cell_type": "code",
   "execution_count": 4,
   "metadata": {},
   "outputs": [
    {
     "data": {
      "text/plain": [
       "<matplotlib.figure.Figure at 0x10ac03e50>"
      ]
     },
     "metadata": {},
     "output_type": "display_data"
    },
    {
     "data": {
      "image/png": "[encoded data removed]",
      "text/plain": [
       "<matplotlib.figure.Figure at 0x10ac01490>"
      ]
     },
     "metadata": {},
     "output_type": "display_data"
    },
    {
     "name": "stdout",
     "output_type": "stream",
     "text": [
      "Generating 1000 samples\n",
      "[(0, 119), (1, 282), (2, 76), (3, 240), (4, 283)]\n"
     ]
    }
   ],
   "source": [
    "from scipy import stats\n",
    "import random\n",
    "\n",
    "# create the random variable\n",
    "domain_size = 5\n",
    "domain = np.arange(domain_size)\n",
    "prob = np.asarray([random.random() for _ in range(5)])\n",
    "prob /= sum(prob)\n",
    "rv = stats.rv_discrete(name='rv', values=(domain, prob))\n",
    "\n",
    "# plot prob\n",
    "plt.figure()\n",
    "fig, ax = plt.subplots(1, 1)\n",
    "ax.plot(domain, rv.pmf(domain), 'ro', ms=12, mec='r')\n",
    "ax.vlines(domain, 0, rv.pmf(domain), colors='r', lw=4)\n",
    "ax.set_xticks(domain)\n",
    "plt.show()\n",
    "\n",
    "# sanity check\n",
    "from collections import Counter\n",
    "c = Counter([sample for sample in rv.rvs(size=1000)])\n",
    "print \"Generating 1000 samples\\n\", list(c.items())"
   ]
  },
  {
   "cell_type": "markdown",
   "metadata": {},
   "source": [
    "Frequency query with local Differential Privacy"
   ]
  },
  {
   "cell_type": "code",
   "execution_count": 5,
   "metadata": {},
   "outputs": [],
   "source": [
    "users = [ROUser(index=i, rv=rv) for i in range(1000)]\n",
    "aggregator = ROAggregator(index=0)\n",
    "aggregator.subscribe(users)"
   ]
  },
  {
   "cell_type": "code",
   "execution_count": 6,
   "metadata": {},
   "outputs": [
    {
     "name": "stdout",
     "output_type": "stream",
     "text": [
      "==== 1000 users with epsilon=0.0 ====\n",
      "ele:0, truth:0.1330, estimate:0.2040, diff:0.0710\n",
      "ele:1, truth:0.2979, estimate:0.2100, diff:0.0879\n",
      "ele:2, truth:0.0614, estimate:0.1980, diff:0.1366\n",
      "ele:3, truth:0.2448, estimate:0.1960, diff:0.0488\n",
      "ele:4, truth:0.2630, estimate:0.2050, diff:0.0580\n",
      "==== 1000 users with epsilon=10.0 ====\n",
      "ele:0, truth:0.1330, estimate:0.1310, diff:0.0020\n",
      "ele:1, truth:0.2979, estimate:0.2860, diff:0.0119\n",
      "ele:2, truth:0.0614, estimate:0.0600, diff:0.0014\n",
      "ele:3, truth:0.2448, estimate:0.2290, diff:0.0158\n",
      "ele:4, truth:0.2630, estimate:0.2940, diff:0.0310\n"
     ]
    }
   ],
   "source": [
    "# Frequency query for elements\n",
    "for eps in [0.0, 10.0]:\n",
    "  for user in users:\n",
    "    user.set_epsilon(epsilon=eps)\n",
    "  print \"==== %s users with epsilon=%s ====\"%(len(users), users[0].eps)\n",
    "  for x, p in zip(rv.xk, rv.pk):\n",
    "    frequency = aggregator.aggregate(aggregator.query(np.asarray([x])))\n",
    "    print \"ele:%s, truth:%0.4f, estimate:%0.4f, diff:%0.4f\"%(x,p,frequency, abs(p-frequency))"
   ]
  }
 ],
 "metadata": {
  "kernelspec": {
   "display_name": "Python 2",
   "language": "python",
   "name": "python2"
  },
  "language_info": {
   "codemirror_mode": {
    "name": "ipython",
    "version": 2
   },
   "file_extension": ".py",
   "mimetype": "text/x-python",
   "name": "python",
   "nbconvert_exporter": "python",
   "pygments_lexer": "ipython2",
   "version": "2.7.11"
  }
 },
 "nbformat": 4,
 "nbformat_minor": 2
}
