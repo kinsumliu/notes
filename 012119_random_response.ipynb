{
 "cells": [
  {
   "cell_type": "markdown",
   "metadata": {},
   "source": [
    "Problem: Heavy hitter\n",
    "\n",
    "Reference:\n",
    "- Privacy at Scale: Local Differential Privacy in Practice"
   ]
  },
  {
   "cell_type": "code",
   "execution_count": 1,
   "metadata": {},
   "outputs": [],
   "source": [
    "%load_ext autoreload\n",
    "%autoreload 2"
   ]
  },
  {
   "cell_type": "code",
   "execution_count": 2,
   "metadata": {},
   "outputs": [],
   "source": [
    "%matplotlib inline\n",
    "import matplotlib.pyplot as plt"
   ]
  },
  {
   "cell_type": "markdown",
   "metadata": {},
   "source": [
    "Implementation of Random Response Protocol $\\pi$ (for user with value $v$) as\n",
    "\\begin{equation}\n",
    "  \\forall_{y\\in D} Pr[\\pi(v)=y]=\n",
    "  \\begin{cases}\n",
    "    \\frac{e^\\epsilon}{e^\\epsilon+|D|-1}, & \\text{if $y=v$}.\\\\\n",
    "    \\frac{1}{e^\\epsilon+|D|-1}, & \\text{if $y\\neq v$}.\\\\\n",
    "  \\end{cases}\n",
    "\\end{equation}\n",
    "\n",
    "Intuition: We sample the correct answer (response $y$ equals truth value $v$) with higher probability. Therefore, if $\\epsilon$ is higher, probability of returning the correct answer is higher which means the privacy is lower. When $\\epsilon = 0$, we have the highest privacy protection."
   ]
  },
  {
   "cell_type": "code",
   "execution_count": 3,
   "metadata": {},
   "outputs": [],
   "source": [
    "from heavyhitter import heavyhitter as hh\n",
    "import numpy as np\n",
    "class ROUser(hh.User):\n",
    "  def set_epsilon(self, epsilon=0):\n",
    "    self.eps = epsilon\n",
    "    pk = [np.exp(self.eps) if np.array_equal(self.val, np.asarray([x])) else 1 \n",
    "                                                 for x in self.rv.xk]\n",
    "    pk /= np.exp(self.eps)+len(self.rv.xk)-1\n",
    "    self.response_rv = stats.rv_discrete(name='response', values=(self.rv.xk, pk))\n",
    "    \n",
    "  def response(self, query):\n",
    "    assert hasattr(self, 'response_rv'), \"response requires setting privacy budget epsilon\"\n",
    "    return self.response_rv.rvs(size=1) == query\n",
    "  \n",
    "class ROAggregator(hh.Aggregator):\n",
    "  def aggregate(self, responses):\n",
    "    return np.mean(responses)"
   ]
  },
  {
   "cell_type": "code",
   "execution_count": 4,
   "metadata": {},
   "outputs": [
    {
     "data": {
      "text/plain": [
       "<matplotlib.figure.Figure at 0x10f188e50>"
      ]
     },
     "metadata": {},
     "output_type": "display_data"
    },
    {
     "data": {
      "image/png": "[encoded data removed]",
      "text/plain": [
       "<matplotlib.figure.Figure at 0x10f1824d0>"
      ]
     },
     "metadata": {},
     "output_type": "display_data"
    },
    {
     "name": "stdout",
     "output_type": "stream",
     "text": [
      "Generating 1000 samples\n",
      "[(0, 251), (1, 9), (2, 194), (3, 298), (4, 248)]\n"
     ]
    }
   ],
   "source": [
    "from scipy import stats\n",
    "import random\n",
    "\n",
    "# create the random variable\n",
    "domain_size = 5\n",
    "domain = np.arange(domain_size)\n",
    "prob = np.asarray([random.random() for _ in range(5)])\n",
    "prob /= sum(prob)\n",
    "rv = stats.rv_discrete(name='rv', values=(domain, prob))\n",
    "\n",
    "# plot prob\n",
    "plt.figure()\n",
    "fig, ax = plt.subplots(1, 1)\n",
    "ax.plot(domain, rv.pmf(domain), 'ro', ms=12, mec='r')\n",
    "ax.vlines(domain, 0, rv.pmf(domain), colors='r', lw=4)\n",
    "ax.set_xticks(domain)\n",
    "plt.show()\n",
    "\n",
    "# sanity check\n",
    "from collections import Counter\n",
    "c = Counter([sample for sample in rv.rvs(size=1000)])\n",
    "print \"Generating 1000 samples\\n\", list(c.items())"
   ]
  },
  {
   "cell_type": "markdown",
   "metadata": {},
   "source": [
    "Frequency query with local Differential Privacy. The untrusted aggregator is trying to estimate the underlying true distribtion so it needs to query the users to report their values.\n",
    "\n",
    "There are two sources of randomness\n",
    "- Each user is a sample of the true distribution. \n",
    "- To protect their privacy, each user reports a random response.\n",
    "\n",
    "Note that the randomness of the response in the equation depends on the domain size but not the number of users."
   ]
  },
  {
   "cell_type": "code",
   "execution_count": 5,
   "metadata": {},
   "outputs": [],
   "source": [
    "users = [ROUser(index=i, rv=rv) for i in range(1000)]\n",
    "aggregator = ROAggregator(index=0)\n",
    "aggregator.subscribe(users)"
   ]
  },
  {
   "cell_type": "code",
   "execution_count": 6,
   "metadata": {},
   "outputs": [
    {
     "name": "stdout",
     "output_type": "stream",
     "text": [
      "==== 1000 users with epsilon=0.0 ====\n",
      "ele:0, truth:0.2380, estimate:0.1990, diff:0.0390\n",
      "ele:1, truth:0.0092, estimate:0.1940, diff:0.1848\n",
      "ele:2, truth:0.1772, estimate:0.1950, diff:0.0178\n",
      "ele:3, truth:0.3103, estimate:0.2040, diff:0.1063\n",
      "ele:4, truth:0.2653, estimate:0.2130, diff:0.0523\n",
      "==== 1000 users with epsilon=5.0 ====\n",
      "ele:0, truth:0.2380, estimate:0.2320, diff:0.0060\n",
      "ele:1, truth:0.0092, estimate:0.0130, diff:0.0038\n",
      "ele:2, truth:0.1772, estimate:0.1810, diff:0.0038\n",
      "ele:3, truth:0.3103, estimate:0.2720, diff:0.0383\n",
      "ele:4, truth:0.2653, estimate:0.3000, diff:0.0347\n"
     ]
    }
   ],
   "source": [
    "# Frequency query for elements\n",
    "for eps in [0.0, 5.0]:\n",
    "  for user in users:\n",
    "    user.set_epsilon(epsilon=eps)\n",
    "  print \"==== %s users with epsilon=%s ====\"%(len(users), users[0].eps)\n",
    "  for x, p in zip(rv.xk, rv.pk):\n",
    "    frequency = aggregator.aggregate(aggregator.query(np.asarray([x])))\n",
    "    print \"ele:%s, truth:%0.4f, estimate:%0.4f, diff:%0.4f\"%(x,p,frequency, abs(p-frequency))"
   ]
  }
 ],
 "metadata": {
  "kernelspec": {
   "display_name": "Python 2",
   "language": "python",
   "name": "python2"
  },
  "language_info": {
   "codemirror_mode": {
    "name": "ipython",
    "version": 2
   },
   "file_extension": ".py",
   "mimetype": "text/x-python",
   "name": "python",
   "nbconvert_exporter": "python",
   "pygments_lexer": "ipython2",
   "version": "2.7.11"
  }
 },
 "nbformat": 4,
 "nbformat_minor": 2
}
