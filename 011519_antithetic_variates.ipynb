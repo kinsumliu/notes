{
 "cells": [
  {
   "cell_type": "markdown",
   "metadata": {},
   "source": [
    "Source: https://en.wikipedia.org/wiki/Antithetic_variates\n",
    "\n",
    "Problem: Monte Carlo Estimate of $\\int_0^1 \\frac{1}{1+x} \\mathrm{d}x$\n",
    "\n",
    "\\begin{equation}\n",
    "\\begin{split}\n",
    "\\int_0^1 \\frac{1}{1+x} \\mathrm{d}x & = \\ln(x+1)+C |_0^1 \\\\\n",
    " & = \\ln(2) - \\ln(1) \\\\\n",
    " & = 0.693147 \\\\\n",
    "\\end{split}\n",
    "\\end{equation}"
   ]
  },
  {
   "cell_type": "code",
   "execution_count": 1,
   "metadata": {},
   "outputs": [],
   "source": [
    "# Calculate the truth\n",
    "import math\n",
    "truth = math.log(2)-math.log(1)"
   ]
  },
  {
   "cell_type": "code",
   "execution_count": 2,
   "metadata": {},
   "outputs": [
    {
     "name": "stdout",
     "output_type": "stream",
     "text": [
      "==== Classical Estimate ====\n",
      "Estimate:  0.6897689682757039\n",
      "Variance:  0.019906485158284908\n"
     ]
    }
   ],
   "source": [
    "# Classical Estimate\n",
    "import numpy as np\n",
    "from sklearn.metrics import mean_squared_error\n",
    "\n",
    "def f(x): return 1.0/(1+x)\n",
    "def sampling(n): return np.random.uniform(0,1,n)\n",
    "\n",
    "n = 1500\n",
    "rand = sampling(2*n)\n",
    "samples = map(f, rand)\n",
    "print \"==== Classical Estimate ====\"\n",
    "print \"Estimate: \", np.mean(samples)\n",
    "print \"Variance: \", np.var(samples)"
   ]
  },
  {
   "cell_type": "code",
   "execution_count": 3,
   "metadata": {},
   "outputs": [
    {
     "name": "stdout",
     "output_type": "stream",
     "text": [
      "==== Antithetic Variates ====\n",
      "Estimate:  0.6928995034332234\n",
      "Variance:  0.0005855591936644748\n"
     ]
    }
   ],
   "source": [
    "# Antithetic Variates\n",
    "import numpy as np\n",
    "from sklearn.metrics import mean_squared_error\n",
    "\n",
    "def f(x): return 1.0/(1+x)\n",
    "def sampling(n): return np.random.uniform(0,1,n)\n",
    "\n",
    "n = 1500\n",
    "rand = sampling(n)\n",
    "rand_anti = 1-rand\n",
    "samples = np.add(map(f, rand), map(f, rand_anti))/2.0\n",
    "\n",
    "print \"==== Antithetic Variates ====\"\n",
    "print \"Estimate: \", np.mean(samples)\n",
    "print \"Variance: \", np.var(samples)"
   ]
  }
 ],
 "metadata": {
  "kernelspec": {
   "display_name": "Python 2",
   "language": "python",
   "name": "python2"
  },
  "language_info": {
   "codemirror_mode": {
    "name": "ipython",
    "version": 2
   },
   "file_extension": ".py",
   "mimetype": "text/x-python",
   "name": "python",
   "nbconvert_exporter": "python",
   "pygments_lexer": "ipython2",
   "version": "2.7.11"
  }
 },
 "nbformat": 4,
 "nbformat_minor": 1
}
