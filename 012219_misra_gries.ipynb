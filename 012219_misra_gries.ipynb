{
 "cells": [
  {
   "cell_type": "markdown",
   "metadata": {},
   "source": [
    "Problem: \"Compute which (if any) value makes up a majority of the stream, or more generally, the set of items that constitute some fixed fraction of the stream\" from wiki\n",
    "\n",
    "- exact $\\phi$-frequent items: return the set $\\{i| f_i > \\phi n\\}$ where $n$ is the length of the stream\n",
    "- $\\epsilon$-approximate $\\phi$-frequent items: return the set $\\{i|f_i>(\\phi-\\epsilon)n\\}$ and there is no $j$ not in the set s.t. $f_j>\\phi n$\n",
    "- frequency estimation problem: for any $i$, an $\\hat{f}_i$ is returned satisfying $\\hat{f}_i \\leq f_i \\leq \\hat{f}_i + \\epsilon n$\n",
    "\n",
    "Reference:\n",
    "- https://en.wikipedia.org/wiki/Misra-Gries_summary\n",
    "- https://people.csail.mit.edu/rrw/6.045-2017/encalgs-mg.pdf\n",
    "- http://www.cs.toronto.edu/~bor/2420f17/L11.pdf"
   ]
  },
  {
   "cell_type": "markdown",
   "metadata": {},
   "source": [
    "Misra-Gries Summary: Every item which occurs at least $n/k$ times is guaranteed to appear in the output array.\n",
    "- solve the frequency estimate problem by setting $k = 1/\\epsilon$\n",
    "- Every 𝑘-heavy hitter is definitely covered in 𝐴. Although,\n",
    "some other elements might be present too. A second pass can be used to eliminate false positives. Cannot solve exact $\\phi$-frequent items in a single pass.\n",
    "\n",
    "To solve $\\epsilon$-approximate $\\phi$-frequent items in a single pass, use Misra-Gries with $k = 1/\\epsilon$. Then return all $v \\in A$ s.t. $\\hat{f}_i \\geq (\\phi-\\epsilon)m$. "
   ]
  },
  {
   "cell_type": "code",
   "execution_count": 1,
   "metadata": {},
   "outputs": [],
   "source": [
    "k = 3\n",
    "s = [1,1,2,1,3,1,3,2,1,5,1,4,1,3,1,2,3,1,2,2,2,2,2,2,2,2,2,2,2,2,2,2,2,2]\n",
    "m = max(s) # event type / domain size\n",
    "n = len(s)\n",
    "\n",
    "# first pass. Space: O(k(log m + log n)). log m for key. log n for count.\n",
    "A = {}\n",
    "for i in s:\n",
    "  if i in A:\n",
    "    A[i] += 1 # increment the freq of value i\n",
    "  elif len(A.keys())< k-1:\n",
    "    A[i] = 1 # initialize the freq of value i\n",
    "  else:\n",
    "    for key in A.keys(): # there are already k values in A\n",
    "      A[key] -= 1 # decrement the freqency for the k values in A\n",
    "      if A[key] == 0: # pop infrequent value\n",
    "        A.pop(key)"
   ]
  },
  {
   "cell_type": "code",
   "execution_count": 2,
   "metadata": {},
   "outputs": [
    {
     "name": "stdout",
     "output_type": "stream",
     "text": [
      "Output:  {1: 4, 2: 15}\n",
      "Frequent items:  [1, 2]\n"
     ]
    }
   ],
   "source": [
    "print \"Output: \", A\n",
    "print \"Frequent items: \", A.keys()"
   ]
  },
  {
   "cell_type": "markdown",
   "metadata": {},
   "source": [
    "The time cost depends on the dictionary operations. Possible implementations are:\n",
    "- balanced search tree\n",
    "- hash table\n",
    "- offsets + linked lists"
   ]
  }
 ],
 "metadata": {
  "kernelspec": {
   "display_name": "Python 2",
   "language": "python",
   "name": "python2"
  },
  "language_info": {
   "codemirror_mode": {
    "name": "ipython",
    "version": 2
   },
   "file_extension": ".py",
   "mimetype": "text/x-python",
   "name": "python",
   "nbconvert_exporter": "python",
   "pygments_lexer": "ipython2",
   "version": "2.7.11"
  }
 },
 "nbformat": 4,
 "nbformat_minor": 2
}
