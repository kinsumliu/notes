{
 "cells": [
  {
   "cell_type": "code",
   "execution_count": 1,
   "metadata": {},
   "outputs": [],
   "source": [
    "import itertools, functools\n",
    "import numpy as np"
   ]
  },
  {
   "cell_type": "markdown",
   "metadata": {},
   "source": [
    "### Pairwise independent hash functions\n",
    "Reference: \n",
    "- https://cseweb.ucsd.edu/~slovett/teaching/SP15-CSE190/pairwise_hash_functions.pdf\n",
    "- https://people.csail.mit.edu/ronitt/COURSE/S12/handouts/lec5.pdf\n",
    "\n",
    "A family $H=\\{h:U \\to R\\}$ is said to be pairwise independent, if for any two distinct elements $x_1 \\neq x_2 \\in U$ and two (possibly equal) values $y_1, y_2 \\in R$,\n",
    "$$ Pr_{h\\in H} [h(x_1)=y_1 \\text{ and } h(x_2)=y_2] = \\frac{1}{|R|^2} $$"
   ]
  },
  {
   "cell_type": "markdown",
   "metadata": {},
   "source": [
    "### Example\n",
    "$U=\\{0,1\\}^k, R=\\{0,1\\}$"
   ]
  },
  {
   "cell_type": "code",
   "execution_count": 2,
   "metadata": {},
   "outputs": [],
   "source": [
    "k = 3\n",
    "U = np.asarray([np.asarray(u).astype(np.int) for u in itertools.product('01',repeat=k)])\n",
    "R = [0,1]"
   ]
  },
  {
   "cell_type": "markdown",
   "metadata": {},
   "source": [
    "Family $H$:\n",
    "$$ H = \\{h_{a,b}(x)=\\langle a,x\\rangle+b (mod 2): a\\in\\{0,1\\}^k, b\\in\\{0,1\\}\\} $$"
   ]
  },
  {
   "cell_type": "code",
   "execution_count": 3,
   "metadata": {},
   "outputs": [],
   "source": [
    "H = []\n",
    "for a in itertools.product('01',repeat=k):\n",
    "  for b in [0,1]:\n",
    "    a = np.asarray(a).astype(np.int)\n",
    "    h_ab = (lambda y,z: (lambda x: (np.dot(y,x)+z)%2))(a,b)\n",
    "    H.append(h_ab)"
   ]
  },
  {
   "cell_type": "markdown",
   "metadata": {},
   "source": [
    "The lambdas in the list comprehension are a closure over the scope of this comprehension. A lexical closure, so they refer to the a,b via reference, and not its value when they were evaluated. So need to wrap it in another lambda."
   ]
  },
  {
   "cell_type": "code",
   "execution_count": 4,
   "metadata": {},
   "outputs": [],
   "source": [
    "(x1, x2) = U[np.random.choice(U.shape[0], 2, replace=False), :]\n",
    "(y1, y2) = np.random.choice(R, 2)"
   ]
  },
  {
   "cell_type": "code",
   "execution_count": 5,
   "metadata": {},
   "outputs": [
    {
     "data": {
      "text/plain": [
       "0.269"
      ]
     },
     "execution_count": 5,
     "metadata": {},
     "output_type": "execute_result"
    }
   ],
   "source": [
    "np.average([h(x1)==y1 and h(x2)==y2 for h in np.random.choice(H, size=1000)])"
   ]
  },
  {
   "cell_type": "markdown",
   "metadata": {},
   "source": [
    "which is close to $\\frac{1}{|R|^2} = \\frac{1}{4}$"
   ]
  },
  {
   "cell_type": "markdown",
   "metadata": {},
   "source": [
    "### More about universal hashing\n",
    "Reference:\n",
    "- https://en.wikipedia.org/wiki/Universal_hashing\n",
    "- https://en.wikipedia.org/wiki/K-independent_hashing\n",
    "\n",
    "(minhash)\n",
    "- https://github.com/4d55397500/learning-scraps/blob/master/minhash/minhash.py\n",
    "- https://stackoverflow.com/questions/2255604/hash-functions-family-generator-in-python\n",
    "- https://stackoverflow.com/questions/19701052/how-many-hash-functions-are-required-in-a-minhash-algorithm/25104050#25104050\n"
   ]
  },
  {
   "cell_type": "markdown",
   "metadata": {},
   "source": [
    "Properties of a family of hashing functions:\n",
    "\n",
    "universality < uniform difference (distance) property < pairwise indepedence (strong universality)"
   ]
  },
  {
   "cell_type": "code",
   "execution_count": 6,
   "metadata": {},
   "outputs": [],
   "source": [
    "import random\n",
    "import numpy as np\n",
    "import sys\n",
    "from collections import Counter"
   ]
  },
  {
   "cell_type": "markdown",
   "metadata": {},
   "source": [
    "### Hashing integers (machine words)"
   ]
  },
  {
   "cell_type": "code",
   "execution_count": 7,
   "metadata": {},
   "outputs": [],
   "source": [
    "# Carter and Wegman's method\n",
    "\n",
    "PRIME = 131071 # large prime number\n",
    "m = 10 # number of hashes\n",
    "rang = 100 # range\n",
    "assert PRIME > max(m,rang), \"The PRIME is too small\"\n",
    "\n",
    "# generate the universal family for hashing integers\n",
    "# A linear congruential generator (LCG) is an algorithm that yields a sequence of pseudo–randomized numbers\n",
    "# calculated with a discontinuous piecewise linear equation.\n",
    "def hash_generator_int():\n",
    "  while True:\n",
    "    a,b = random.randint(1, PRIME), random.randint(0, PRIME)\n",
    "    h_ab = (lambda a,b: lambda x: (a*x+b)%PRIME%m)(a,b)\n",
    "    yield h_ab\n",
    "family = hash_generator_int()"
   ]
  },
  {
   "cell_type": "code",
   "execution_count": 8,
   "metadata": {},
   "outputs": [
    {
     "name": "stdout",
     "output_type": "stream",
     "text": [
      "x 3 y 85\n"
     ]
    }
   ],
   "source": [
    "[x,y] = random.sample(range(rang), 2)\n",
    "print \"x\", x, \"y\", y"
   ]
  },
  {
   "cell_type": "code",
   "execution_count": 9,
   "metadata": {},
   "outputs": [
    {
     "name": "stdout",
     "output_type": "stream",
     "text": [
      "<= 1/10 = 0.1058\n"
     ]
    }
   ],
   "source": [
    "# universality\n",
    "print \"<= 1/%s = %s\" %(m, np.mean([h(x)==h(y) for h in [next(family) for _ in range(10000)]]))"
   ]
  },
  {
   "cell_type": "code",
   "execution_count": 10,
   "metadata": {},
   "outputs": [
    {
     "data": {
      "text/plain": [
       "Counter({0: 1010,\n",
       "         1: 1040,\n",
       "         2: 1012,\n",
       "         3: 996,\n",
       "         4: 1009,\n",
       "         5: 1004,\n",
       "         6: 979,\n",
       "         7: 983,\n",
       "         8: 973,\n",
       "         9: 994})"
      ]
     },
     "execution_count": 10,
     "metadata": {},
     "output_type": "execute_result"
    }
   ],
   "source": [
    "# uniform difference property\n",
    "Counter([(h(x)-h(y))%m for h in [next(family) for _ in range(10000)]])"
   ]
  },
  {
   "cell_type": "code",
   "execution_count": 11,
   "metadata": {},
   "outputs": [
    {
     "name": "stdout",
     "output_type": "stream",
     "text": [
      "1/m^2 = 1/100 = 0.0097\n"
     ]
    }
   ],
   "source": [
    "# pairwise independent\n",
    "(z1, z2) = random.sample(range(m), 2)\n",
    "print \"1/m^2 = 1/%s = %s\"%(m**2,np.mean([h(x)==z1 and h(y)==z2 for h in [next(family) for _ in range(10000)]]))"
   ]
  },
  {
   "cell_type": "markdown",
   "metadata": {},
   "source": [
    "### Hashing vectors (fixed-length sequence of machine words)"
   ]
  },
  {
   "cell_type": "code",
   "execution_count": 12,
   "metadata": {},
   "outputs": [],
   "source": [
    "k = 7 # length of sequence\n",
    "\n",
    "def hash_generator_int():\n",
    "  while True:\n",
    "    a,b = random.randint(1, PRIME), random.randint(0, PRIME)\n",
    "    h_ab = (lambda a,b: lambda x: (a*x+b)%PRIME%m)(a,b)\n",
    "    yield h_ab\n",
    "family_int = hash_generator_int()\n",
    "\n",
    "def hash_generator_vector():\n",
    "  while True:\n",
    "    h = lambda x: sum(map(next(family_int), x))%m\n",
    "    yield h\n",
    "family = hash_generator_vector()"
   ]
  },
  {
   "cell_type": "code",
   "execution_count": 13,
   "metadata": {},
   "outputs": [
    {
     "name": "stdout",
     "output_type": "stream",
     "text": [
      "x [56, 29, 80, 28, 13, 58, 17] y [68, 54, 28, 13, 52, 26, 25]\n"
     ]
    }
   ],
   "source": [
    "[x,y] = [random.sample(range(rang), k), random.sample(range(rang), k)]\n",
    "print \"x\", x, \"y\", y"
   ]
  },
  {
   "cell_type": "code",
   "execution_count": 14,
   "metadata": {},
   "outputs": [
    {
     "name": "stdout",
     "output_type": "stream",
     "text": [
      "<= 1/10 = 0.0997\n"
     ]
    }
   ],
   "source": [
    "# universality\n",
    "print \"<= 1/%s = %s\" %(m, np.mean([h(x)==h(y) for h in [next(family) for _ in range(10000)]]))"
   ]
  },
  {
   "cell_type": "code",
   "execution_count": 15,
   "metadata": {},
   "outputs": [
    {
     "data": {
      "text/plain": [
       "Counter({0: 1015,\n",
       "         1: 970,\n",
       "         2: 1043,\n",
       "         3: 1035,\n",
       "         4: 1016,\n",
       "         5: 984,\n",
       "         6: 992,\n",
       "         7: 974,\n",
       "         8: 976,\n",
       "         9: 995})"
      ]
     },
     "execution_count": 15,
     "metadata": {},
     "output_type": "execute_result"
    }
   ],
   "source": [
    "# uniform difference property\n",
    "Counter([(h(x)-h(y))%m for h in [next(family) for _ in range(10000)]])"
   ]
  },
  {
   "cell_type": "code",
   "execution_count": 16,
   "metadata": {},
   "outputs": [
    {
     "name": "stdout",
     "output_type": "stream",
     "text": [
      "1/m^2 = 1/100 = 0.0101\n"
     ]
    }
   ],
   "source": [
    "# pairwise independent\n",
    "(z1, z2) = random.sample(range(m), 2)\n",
    "print \"1/m^2 = 1/%s = %s\"%(m**2,np.mean([h(x)==z1 and h(y)==z2 for h in [next(family) for _ in range(10000)]]))"
   ]
  },
  {
   "cell_type": "markdown",
   "metadata": {},
   "source": [
    "### Hashing strings (variable-sized sequence of machine words)"
   ]
  },
  {
   "cell_type": "code",
   "execution_count": 17,
   "metadata": {},
   "outputs": [],
   "source": [
    "LARGER_PRIME = 2147483647\n",
    "def hash_generator_int():\n",
    "  while True:\n",
    "    a,b = random.randint(1, LARGER_PRIME), random.randint(0, LARGER_PRIME)\n",
    "    h_ab = (lambda a,b: lambda x: (a*x+b)%LARGER_PRIME%m)(a,b)\n",
    "    yield h_ab\n",
    "family_int = hash_generator_int()\n",
    "\n",
    "def hash_generator_string():\n",
    "  while True:\n",
    "    a = random.randint(0, PRIME)\n",
    "    h = lambda x: next(family_int)(sum([xi*a**(len(x)-i) for i,xi in enumerate(x)])%PRIME)\n",
    "    yield h\n",
    "family = hash_generator_string()"
   ]
  },
  {
   "cell_type": "code",
   "execution_count": 18,
   "metadata": {},
   "outputs": [
    {
     "name": "stdout",
     "output_type": "stream",
     "text": [
      "x [20, 79, 63, 86, 47, 31, 93, 83, 90, 3] y [97, 28, 42, 56, 8]\n"
     ]
    }
   ],
   "source": [
    "k1, k2 = 10, 5\n",
    "[x,y] = [random.sample(range(rang), k1), random.sample(range(rang), k2)]\n",
    "print \"x\", x, \"y\", y"
   ]
  },
  {
   "cell_type": "code",
   "execution_count": 19,
   "metadata": {},
   "outputs": [
    {
     "name": "stdout",
     "output_type": "stream",
     "text": [
      "<= 1/10 = 0.1027\n"
     ]
    }
   ],
   "source": [
    "# universality\n",
    "print \"<= 1/%s = %s\" %(m, np.mean([h(x)==h(y) for h in [next(family) for _ in range(10000)]]))"
   ]
  },
  {
   "cell_type": "code",
   "execution_count": 20,
   "metadata": {},
   "outputs": [
    {
     "data": {
      "text/plain": [
       "Counter({0L: 937,\n",
       "         1L: 1052,\n",
       "         2L: 975,\n",
       "         3L: 998,\n",
       "         4L: 1014,\n",
       "         5L: 1013,\n",
       "         6L: 989,\n",
       "         7L: 1046,\n",
       "         8L: 987,\n",
       "         9L: 989})"
      ]
     },
     "execution_count": 20,
     "metadata": {},
     "output_type": "execute_result"
    }
   ],
   "source": [
    "# uniform difference property\n",
    "Counter([(h(x)-h(y))%m for h in [next(family) for _ in range(10000)]])"
   ]
  },
  {
   "cell_type": "code",
   "execution_count": 21,
   "metadata": {},
   "outputs": [
    {
     "name": "stdout",
     "output_type": "stream",
     "text": [
      "1/m^2 = 1/100 = 0.0098\n"
     ]
    }
   ],
   "source": [
    "# pairwise independent\n",
    "(z1, z2) = random.sample(range(m), 2)\n",
    "print \"1/m^2 = 1/%s = %s\"%(m**2,np.mean([h(x)==z1 and h(y)==z2 for h in [next(family) for _ in range(10000)]]))"
   ]
  },
  {
   "cell_type": "markdown",
   "metadata": {},
   "source": [
    "### Padding\n",
    "Reference:\n",
    "- https://crypto.stackexchange.com/questions/2753/in-the-sha-hash-algorithm-why-is-the-message-always-padded\n",
    "- Strongly universal string hashing is fast\n",
    "\n",
    "Padding can be used for converting variable-length string to fixed-length string. Then use hashing for vectors. However, padding with zero only won't work since universality will break. We need to introduce an extra bit at the end."
   ]
  }
 ],
 "metadata": {
  "kernelspec": {
   "display_name": "Python 2",
   "language": "python",
   "name": "python2"
  },
  "language_info": {
   "codemirror_mode": {
    "name": "ipython",
    "version": 2
   },
   "file_extension": ".py",
   "mimetype": "text/x-python",
   "name": "python",
   "nbconvert_exporter": "python",
   "pygments_lexer": "ipython2",
   "version": "2.7.11"
  }
 },
 "nbformat": 4,
 "nbformat_minor": 2
}
